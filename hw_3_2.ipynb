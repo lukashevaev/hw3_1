{
 "cells": [
  {
   "cell_type": "markdown",
   "metadata": {},
   "source": [
    "Homework 2.0"
   ]
  },
  {
   "cell_type": "code",
   "execution_count": 7,
   "metadata": {},
   "outputs": [],
   "source": [
    "import numpy as np\n",
    "import pandas as pd\n",
    "import matplotlib\n",
    "import math as m"
   ]
  },
  {
   "cell_type": "code",
   "execution_count": 8,
   "metadata": {},
   "outputs": [],
   "source": [
    "data = pd.read_csv('data.csv')\n",
    "data_place=pd.read_csv('context_place.csv')\n",
    "data_day=pd.read_csv('context_day.csv')\n",
    "data_names=pd.read_csv('movie_names.csv')"
   ]
  },
  {
   "cell_type": "code",
   "execution_count": 9,
   "metadata": {},
   "outputs": [
    {
     "name": "stdout",
     "output_type": "stream",
     "text": [
      "<class 'pandas.core.frame.DataFrame'>\n",
      "RangeIndex: 40 entries, 0 to 39\n",
      "Data columns (total 31 columns):\n",
      " #   Column      Non-Null Count  Dtype \n",
      "---  ------      --------------  ----- \n",
      " 0   Unnamed: 0  40 non-null     object\n",
      " 1    Movie 1    40 non-null     int64 \n",
      " 2    Movie 2    40 non-null     int64 \n",
      " 3    Movie 3    40 non-null     int64 \n",
      " 4    Movie 4    40 non-null     int64 \n",
      " 5    Movie 5    40 non-null     int64 \n",
      " 6    Movie 6    40 non-null     int64 \n",
      " 7    Movie 7    40 non-null     int64 \n",
      " 8    Movie 8    40 non-null     int64 \n",
      " 9    Movie 9    40 non-null     int64 \n",
      " 10   Movie 10   40 non-null     int64 \n",
      " 11   Movie 11   40 non-null     int64 \n",
      " 12   Movie 12   40 non-null     int64 \n",
      " 13   Movie 13   40 non-null     int64 \n",
      " 14   Movie 14   40 non-null     int64 \n",
      " 15   Movie 15   40 non-null     int64 \n",
      " 16   Movie 16   40 non-null     int64 \n",
      " 17   Movie 17   40 non-null     int64 \n",
      " 18   Movie 18   40 non-null     int64 \n",
      " 19   Movie 19   40 non-null     int64 \n",
      " 20   Movie 20   40 non-null     int64 \n",
      " 21   Movie 21   40 non-null     int64 \n",
      " 22   Movie 22   40 non-null     int64 \n",
      " 23   Movie 23   40 non-null     int64 \n",
      " 24   Movie 24   40 non-null     int64 \n",
      " 25   Movie 25   40 non-null     int64 \n",
      " 26   Movie 26   40 non-null     int64 \n",
      " 27   Movie 27   40 non-null     int64 \n",
      " 28   Movie 28   40 non-null     int64 \n",
      " 29   Movie 29   40 non-null     int64 \n",
      " 30   Movie 30   40 non-null     int64 \n",
      "dtypes: int64(30), object(1)\n",
      "memory usage: 9.8+ KB\n"
     ]
    }
   ],
   "source": [
    "data.info()"
   ]
  },
  {
   "cell_type": "code",
   "execution_count": 10,
   "metadata": {
    "scrolled": true
   },
   "outputs": [
    {
     "name": "stdout",
     "output_type": "stream",
     "text": [
      "             Movie 1  Movie 2  Movie 3  Movie 4  Movie 5  Movie 6  Movie 7  \\\n",
      "20  User 21       -1        c        c        c        h        c        v   \n",
      "\n",
      "    Movie 8  Movie 9  ...  Movie 21  Movie 22  Movie 23  Movie 24  Movie 25  \\\n",
      "20        v        v  ...        -1         c         h         v         v   \n",
      "\n",
      "    Movie 26  Movie 27  Movie 28  Movie 29  Movie 30  \n",
      "20         v         v         h         c        -1  \n",
      "\n",
      "[1 rows x 31 columns]\n"
     ]
    }
   ],
   "source": [
    "data_place_21=data_place.iloc[ [20] ]\n",
    "print(data_place_21)"
   ]
  },
  {
   "cell_type": "markdown",
   "metadata": {},
   "source": [
    "ДРОПАЕМ НЕНУЖНЫЙ НАМ 1 СТОЛБЕЦ"
   ]
  },
  {
   "cell_type": "code",
   "execution_count": 11,
   "metadata": {},
   "outputs": [],
   "source": [
    " data=data.drop(data.columns[0],axis=1)"
   ]
  },
  {
   "cell_type": "markdown",
   "metadata": {},
   "source": [
    "1 ЗАДАНИЕ "
   ]
  },
  {
   "cell_type": "markdown",
   "metadata": {},
   "source": [
    "Для заданного пользователя (21) рассчитать оценки для всех фильмов, которые он не оценил."
   ]
  },
  {
   "cell_type": "code",
   "execution_count": 12,
   "metadata": {},
   "outputs": [
    {
     "name": "stdout",
     "output_type": "stream",
     "text": [
      "2.96 \n",
      "\n"
     ]
    }
   ],
   "source": [
    "data.iloc[20]\n",
    "# datat=data.replace({-1: 0})\n",
    "datat=data.replace({-1: None})\n",
    "ru=round(datat.iloc[20].mean(),3)\n",
    "print(ru,'\\n')\n",
    "def rv(us_id):   \n",
    "    rv=[]\n",
    "    for i in range(40):\n",
    "        rv.append(datat.iloc[i].mean())  \n",
    "    return rv[us_id]\n",
    "# for i in range(row_num):\n",
    "#     print(round(rv(i),3))"
   ]
  },
  {
   "cell_type": "markdown",
   "metadata": {},
   "source": [
    "Заменим -1 на 0 для упрощения расчетов и выведем кол-во строк и столбцов"
   ]
  },
  {
   "cell_type": "code",
   "execution_count": 15,
   "metadata": {},
   "outputs": [],
   "source": [
    "# data=data.replace({-1: 0})\n",
    "# data\n",
    "\n",
    "col_num=data.shape[1]\n",
    "row_num=data.shape[0]\n",
    "\n",
    "user_number=20"
   ]
  },
  {
   "cell_type": "markdown",
   "metadata": {},
   "source": [
    "Здесь главная функция, считающая метрику сходства"
   ]
  },
  {
   "cell_type": "code",
   "execution_count": 16,
   "metadata": {},
   "outputs": [
    {
     "name": "stdout",
     "output_type": "stream",
     "text": [
      "[0.922 0.8   0.701 0.849 0.85  0.917 0.914 0.814 0.775 0.853 0.809 0.876\n",
      " 0.792 0.729 0.789 0.875 0.822 0.753 0.855 0.8   0.    0.815 0.863 0.784\n",
      " 0.791 0.809 0.842 0.827 0.869 0.835 0.819 0.787 0.756 0.806 0.769 0.828\n",
      " 0.807 0.858 0.71  0.852]\n"
     ]
    }
   ],
   "source": [
    "def sim_func(user_num):\n",
    "    sim = np.zeros((row_num,row_num))\n",
    "    for userU in range(row_num):\n",
    "         for userV in range(row_num):\n",
    "            if(userU != userV):\n",
    "                sumUV=0\n",
    "                sumU=0\n",
    "                sumV=0\n",
    "                sumuv=0\n",
    "                matr=data.iloc[[userU,userV]]\n",
    "                for film_num in range(col_num):\n",
    "                    film=matr[matr.columns[film_num]]\n",
    "                    if (film[userU]!=-1)&(film[userV]!=-1):\n",
    "                        sumUV+=film[userU]*film[userV]\n",
    "                        sumU+=film[userU]**2\n",
    "                        sumV+=film[userV]**2\n",
    "                sumuv=m.sqrt(sumU*sumV)\n",
    "                sim[userU,userV]=round(sumUV/sumuv,3)\n",
    "    return sim[user_num]\n",
    "print(sim_func(user_number))"
   ]
  },
  {
   "cell_type": "markdown",
   "metadata": {},
   "source": [
    "Ищем максимально похожих 4х пользователей: расставляем в порядке возрастания и слайсируем похожих"
   ]
  },
  {
   "cell_type": "code",
   "execution_count": 17,
   "metadata": {},
   "outputs": [
    {
     "name": "stdout",
     "output_type": "stream",
     "text": [
      "Индексы:  [0, 5, 6, 11] Значения:  [0.922 0.917 0.914 0.876]\n"
     ]
    }
   ],
   "source": [
    "new_dat=sim_func(user_number)\n",
    "nw=sorted(new_dat)\n",
    "ln=len(nw)\n",
    "index=[]\n",
    "for i in range(36,40):    \n",
    "    for j in range(len(new_dat)-1,-1,-1):\n",
    "        if new_dat[j]==nw[i]:\n",
    "            index.append(j)\n",
    "            break\n",
    "ind=sorted(index)\n",
    "print('Индексы: ',ind,'Значения: ',sim_func(user_number)[ind])"
   ]
  },
  {
   "cell_type": "markdown",
   "metadata": {},
   "source": [
    "Вывод новых оценок"
   ]
  },
  {
   "cell_type": "code",
   "execution_count": 18,
   "metadata": {},
   "outputs": [
    {
     "name": "stdout",
     "output_type": "stream",
     "text": [
      "Новые оценки: Movie 1 = 3.228\n",
      "Новые оценки: Movie 18 = 3.717\n",
      "Новые оценки: Movie 19 = 1.769\n",
      "Новые оценки: Movie 21 = 2.274\n",
      "Новые оценки: Movie 30 = 2.732\n"
     ]
    }
   ],
   "source": [
    "ru = round(ru,3)\n",
    "sm = np.zeros(col_num) \n",
    "sum_sim = 0 \n",
    "for us in ind:\n",
    "    dU = data.iloc[[us]] \n",
    "    srv = round(rv(us),3)\n",
    "    simvu = sim_func(user_number)[us]\n",
    "    sum_sim += simvu\n",
    "#     print(dU,'\\n',srv,'\\n',sum_sim)\n",
    "    for film in range(col_num):\n",
    "        rvi=dU[dU.columns[film]]\n",
    "#         print(rvi[us])\n",
    "        if (rvi[us]!=-1):\n",
    "            sm[film] += simvu * (rvi - srv)\n",
    "for i in range(col_num):\n",
    "    sm[i] = round(ru + round(sm[i] / sum_sim,3),3)\n",
    "# print(\"Новые оценки для 21 User:\", sm)\n",
    "data_var=data.iloc[user_number]\n",
    "rez_l=[]\n",
    "for i in range(col_num):\n",
    "    if data_var.iloc[i]==-1:\n",
    "        data_var.iloc[i]=sm[i]\n",
    "        rez_l.append(data_var.iloc[i])\n",
    "        j=i+1\n",
    "        print('Новые оценки: Movie',j,'=',round(data_var.iloc[i],3))\n",
    "        \n",
    "\n",
    "        \n",
    " "
   ]
  },
  {
   "cell_type": "code",
   "execution_count": 19,
   "metadata": {},
   "outputs": [
    {
     "name": "stdout",
     "output_type": "stream",
     "text": [
      "Индексы неоцененных фильмов [ 0 17 18 20 29]\n",
      "Новые оценки для фильма: Movie 1 = 3.319\n",
      "Новые оценки для фильма: Movie 18 = 3.972\n",
      "Новые оценки для фильма: Movie 19 = 1.769\n",
      "Новые оценки для фильма: Movie 21 = 2.274\n",
      "Новые оценки для фильма: Movie 30 = 2.732\n"
     ]
    }
   ],
   "source": [
    "mylist = []\n",
    "matr2=data.iloc[user_number]\n",
    "lng=len(matr2)\n",
    "for userN in range(lng):\n",
    "    if (matr2[userN] == -1):\n",
    "        mylist.append(userN)\n",
    "unrated_films = np.array(mylist)\n",
    "print('Индексы неоцененных фильмов',unrated_films)\n",
    "\n",
    "sum_m = np.zeros(col_num)\n",
    "sm=np.zeros(col_num)\n",
    "for us in ind:\n",
    "    srv = round(rv(us),3)\n",
    "    for film in unrated_films:\n",
    "        if(data.iloc[us][film] != -1):\n",
    "            sum_m[film] += sim_func(user_number)[us]\n",
    "            sm[film] += sim_func(user_number)[us] * (data.iloc[us][film] - srv)\n",
    "rez_l=[]\n",
    "for i in unrated_films:\n",
    "    sm[i] = round(ru + sm[i] / sum_m[i],3)\n",
    "    data_var.iloc[i]=sm[i]\n",
    "    rez_l.append(data_var.iloc[i])\n",
    "    j=i+1\n",
    "    print('Новые оценки для фильма: Movie',j,'=',round(data_var.iloc[i],3))"
   ]
  },
  {
   "cell_type": "markdown",
   "metadata": {},
   "source": [
    "Ищем фильмы без оценок в нашем варианте"
   ]
  },
  {
   "cell_type": "code",
   "execution_count": 24,
   "metadata": {},
   "outputs": [
    {
     "data": {
      "text/html": [
       "<div>\n",
       "<style scoped>\n",
       "    .dataframe tbody tr th:only-of-type {\n",
       "        vertical-align: middle;\n",
       "    }\n",
       "\n",
       "    .dataframe tbody tr th {\n",
       "        vertical-align: top;\n",
       "    }\n",
       "\n",
       "    .dataframe thead th {\n",
       "        text-align: right;\n",
       "    }\n",
       "</style>\n",
       "<table border=\"1\" class=\"dataframe\">\n",
       "  <thead>\n",
       "    <tr style=\"text-align: right;\">\n",
       "      <th></th>\n",
       "      <th>1</th>\n",
       "    </tr>\n",
       "  </thead>\n",
       "  <tbody>\n",
       "    <tr>\n",
       "      <th>Movie 1</th>\n",
       "      <td>3.319</td>\n",
       "    </tr>\n",
       "    <tr>\n",
       "      <th>Movie 18</th>\n",
       "      <td>3.972</td>\n",
       "    </tr>\n",
       "    <tr>\n",
       "      <th>Movie 19</th>\n",
       "      <td>1.769</td>\n",
       "    </tr>\n",
       "    <tr>\n",
       "      <th>Movie 21</th>\n",
       "      <td>2.274</td>\n",
       "    </tr>\n",
       "    <tr>\n",
       "      <th>Movie 30</th>\n",
       "      <td>2.732</td>\n",
       "    </tr>\n",
       "  </tbody>\n",
       "</table>\n",
       "</div>"
      ],
      "text/plain": [
       "              1\n",
       "Movie 1   3.319\n",
       "Movie 18  3.972\n",
       "Movie 19  1.769\n",
       "Movie 21  2.274\n",
       "Movie 30  2.732"
      ]
     },
     "execution_count": 24,
     "metadata": {},
     "output_type": "execute_result"
    }
   ],
   "source": [
    "dat=pd.DataFrame(rez_l,index=['Movie 1','Movie 18','Movie 19','Movie 21','Movie 30'], columns=['1'])\n",
    "dat"
   ]
  },
  {
   "cell_type": "markdown",
   "metadata": {},
   "source": [
    "ЗАДАНИЕ 2"
   ]
  },
  {
   "cell_type": "code",
   "execution_count": 25,
   "metadata": {},
   "outputs": [
    {
     "name": "stdout",
     "output_type": "stream",
     "text": [
      "    Movie 1  Movie 2  Movie 3  Movie 4  Movie 5  Movie 6  Movie 7  Movie 8  \\\n",
      "20       -1        2        1        2        3        5        4        1   \n",
      "20       -1        c        c        c        h        c        v        v   \n",
      "20       -1      Thu      Thu      Sat      Sat      Thu      Thu      Sat   \n",
      "\n",
      "    Movie 9  Movie 10  ...  Movie 23  Movie 24  Movie 25  Movie 26  Movie 27  \\\n",
      "20        2         3  ...         1         2         5         5         4   \n",
      "20        v         h  ...         h         v         v         v         v   \n",
      "20      Fri       Fri  ...       Wed       Wed       Sat       Mon       Sun   \n",
      "\n",
      "    Movie 28  Movie 29  Movie 30          Unnamed: 0  \n",
      "20         4         2        -1      NaN        NaN  \n",
      "20         h         c        -1  User 21        NaN  \n",
      "20       Sat       Sun        -1      NaN    User 21  \n",
      "\n",
      "[3 rows x 32 columns]\n"
     ]
    }
   ],
   "source": [
    "data_21=data.iloc[[user_number]]\n",
    "data_day_21=data_day.iloc[ [user_number] ]\n",
    "\n",
    "data_place_21=data_place.iloc[ [user_number] ]\n",
    "\n",
    "data_conc=pd.concat([data_21,data_place_21,data_day_21],sort=False, axis=0)\n",
    "print(data_conc)"
   ]
  },
  {
   "cell_type": "code",
   "execution_count": 26,
   "metadata": {
    "scrolled": true
   },
   "outputs": [
    {
     "name": "stdout",
     "output_type": "stream",
     "text": [
      "           Grades    Where     When\n",
      " Movie 1       -1       -1       -1\n",
      " Movie 2        2        c      Thu\n",
      " Movie 3        1        c      Thu\n",
      " Movie 4        2        c      Sat\n",
      " Movie 5        3        h      Sat\n",
      " Movie 6        5        c      Thu\n",
      " Movie 7        4        v      Thu\n",
      " Movie 8        1        v      Sat\n",
      " Movie 9        2        v      Fri\n",
      " Movie 10       3        h      Fri\n",
      " Movie 11       5        c      Fri\n",
      " Movie 12       5        v      Sat\n",
      " Movie 13       1        c      Wed\n",
      " Movie 14       3        v      Mon\n",
      " Movie 15       2        c      Wed\n",
      " Movie 16       3        v      Thu\n",
      " Movie 17       1        c      Fri\n",
      " Movie 18      -1       -1       -1\n",
      " Movie 19      -1       -1       -1\n",
      " Movie 20       3        h      Tue\n",
      " Movie 21      -1       -1       -1\n",
      " Movie 22       5        c      Tue\n",
      " Movie 23       1        h      Wed\n",
      " Movie 24       2        v      Wed\n",
      " Movie 25       5        v      Sat\n",
      " Movie 26       5        v      Mon\n",
      " Movie 27       4        v      Sun\n",
      " Movie 28       4        h      Sat\n",
      " Movie 29       2        c      Sun\n",
      " Movie 30      -1       -1       -1\n",
      "              NaN  User 21      NaN\n",
      "Unnamed: 0    NaN      NaN  User 21\n"
     ]
    }
   ],
   "source": [
    "df=data_conc.T\n",
    "df.columns=['Grades','Where','When']\n",
    "list(df)\n",
    "print(df)"
   ]
  },
  {
   "cell_type": "code",
   "execution_count": 27,
   "metadata": {},
   "outputs": [
    {
     "name": "stdout",
     "output_type": "stream",
     "text": [
      "[4, 5, 8, 12, 25, 28]\n",
      "[5, 10, 20, 23, 28]\n"
     ]
    }
   ],
   "source": [
    "lngth=len(data_place.iloc[user_number])\n",
    "pfilms = []\n",
    "\n",
    "for el in range(1,lngth):\n",
    "    if (data_place.iloc[user_number][el].strip() == 'h'):\n",
    "        pfilms.append(el)   \n",
    "dfilms=[]\n",
    "for el in range(1,lngth):\n",
    "    if (data_day.iloc[user_number][el].strip() == 'Sat') | (data_day.iloc[user_number][el].strip() == 'Sun') & (el in pfilms):\n",
    "        dfilms.append(el)\n",
    "print(dfilms)\n",
    "print(pfilms)"
   ]
  },
  {
   "cell_type": "code",
   "execution_count": 28,
   "metadata": {},
   "outputs": [
    {
     "data": {
      "text/html": [
       "<div>\n",
       "<style scoped>\n",
       "    .dataframe tbody tr th:only-of-type {\n",
       "        vertical-align: middle;\n",
       "    }\n",
       "\n",
       "    .dataframe tbody tr th {\n",
       "        vertical-align: top;\n",
       "    }\n",
       "\n",
       "    .dataframe thead th {\n",
       "        text-align: right;\n",
       "    }\n",
       "</style>\n",
       "<table border=\"1\" class=\"dataframe\">\n",
       "  <thead>\n",
       "    <tr style=\"text-align: right;\">\n",
       "      <th></th>\n",
       "      <th>Movie 1</th>\n",
       "      <th>Movie 2</th>\n",
       "      <th>Movie 3</th>\n",
       "      <th>Movie 4</th>\n",
       "      <th>Movie 5</th>\n",
       "      <th>Movie 6</th>\n",
       "      <th>Movie 7</th>\n",
       "      <th>Movie 8</th>\n",
       "      <th>Movie 9</th>\n",
       "      <th>Movie 10</th>\n",
       "      <th>...</th>\n",
       "      <th>Movie 21</th>\n",
       "      <th>Movie 22</th>\n",
       "      <th>Movie 23</th>\n",
       "      <th>Movie 24</th>\n",
       "      <th>Movie 25</th>\n",
       "      <th>Movie 26</th>\n",
       "      <th>Movie 27</th>\n",
       "      <th>Movie 28</th>\n",
       "      <th>Movie 29</th>\n",
       "      <th>Movie 30</th>\n",
       "    </tr>\n",
       "  </thead>\n",
       "  <tbody>\n",
       "    <tr>\n",
       "      <th>0</th>\n",
       "      <td>-1</td>\n",
       "      <td>4</td>\n",
       "      <td>1</td>\n",
       "      <td>5</td>\n",
       "      <td>-1</td>\n",
       "      <td>-1</td>\n",
       "      <td>-1</td>\n",
       "      <td>1</td>\n",
       "      <td>3</td>\n",
       "      <td>-1</td>\n",
       "      <td>...</td>\n",
       "      <td>2</td>\n",
       "      <td>4</td>\n",
       "      <td>-1</td>\n",
       "      <td>-1</td>\n",
       "      <td>3</td>\n",
       "      <td>4</td>\n",
       "      <td>-1</td>\n",
       "      <td>2</td>\n",
       "      <td>4</td>\n",
       "      <td>1</td>\n",
       "    </tr>\n",
       "    <tr>\n",
       "      <th>1</th>\n",
       "      <td>4</td>\n",
       "      <td>5</td>\n",
       "      <td>2</td>\n",
       "      <td>3</td>\n",
       "      <td>3</td>\n",
       "      <td>4</td>\n",
       "      <td>-1</td>\n",
       "      <td>5</td>\n",
       "      <td>3</td>\n",
       "      <td>2</td>\n",
       "      <td>...</td>\n",
       "      <td>-1</td>\n",
       "      <td>2</td>\n",
       "      <td>-1</td>\n",
       "      <td>3</td>\n",
       "      <td>1</td>\n",
       "      <td>5</td>\n",
       "      <td>-1</td>\n",
       "      <td>5</td>\n",
       "      <td>2</td>\n",
       "      <td>2</td>\n",
       "    </tr>\n",
       "    <tr>\n",
       "      <th>2</th>\n",
       "      <td>4</td>\n",
       "      <td>2</td>\n",
       "      <td>5</td>\n",
       "      <td>4</td>\n",
       "      <td>1</td>\n",
       "      <td>5</td>\n",
       "      <td>-1</td>\n",
       "      <td>3</td>\n",
       "      <td>5</td>\n",
       "      <td>2</td>\n",
       "      <td>...</td>\n",
       "      <td>4</td>\n",
       "      <td>-1</td>\n",
       "      <td>5</td>\n",
       "      <td>4</td>\n",
       "      <td>5</td>\n",
       "      <td>1</td>\n",
       "      <td>2</td>\n",
       "      <td>1</td>\n",
       "      <td>-1</td>\n",
       "      <td>3</td>\n",
       "    </tr>\n",
       "    <tr>\n",
       "      <th>3</th>\n",
       "      <td>5</td>\n",
       "      <td>-1</td>\n",
       "      <td>2</td>\n",
       "      <td>-1</td>\n",
       "      <td>-1</td>\n",
       "      <td>2</td>\n",
       "      <td>4</td>\n",
       "      <td>3</td>\n",
       "      <td>2</td>\n",
       "      <td>3</td>\n",
       "      <td>...</td>\n",
       "      <td>-1</td>\n",
       "      <td>2</td>\n",
       "      <td>2</td>\n",
       "      <td>2</td>\n",
       "      <td>2</td>\n",
       "      <td>5</td>\n",
       "      <td>3</td>\n",
       "      <td>2</td>\n",
       "      <td>5</td>\n",
       "      <td>5</td>\n",
       "    </tr>\n",
       "    <tr>\n",
       "      <th>4</th>\n",
       "      <td>4</td>\n",
       "      <td>3</td>\n",
       "      <td>3</td>\n",
       "      <td>3</td>\n",
       "      <td>5</td>\n",
       "      <td>3</td>\n",
       "      <td>3</td>\n",
       "      <td>4</td>\n",
       "      <td>5</td>\n",
       "      <td>2</td>\n",
       "      <td>...</td>\n",
       "      <td>4</td>\n",
       "      <td>5</td>\n",
       "      <td>2</td>\n",
       "      <td>-1</td>\n",
       "      <td>3</td>\n",
       "      <td>5</td>\n",
       "      <td>1</td>\n",
       "      <td>-1</td>\n",
       "      <td>5</td>\n",
       "      <td>-1</td>\n",
       "    </tr>\n",
       "    <tr>\n",
       "      <th>5</th>\n",
       "      <td>2</td>\n",
       "      <td>-1</td>\n",
       "      <td>3</td>\n",
       "      <td>3</td>\n",
       "      <td>3</td>\n",
       "      <td>3</td>\n",
       "      <td>4</td>\n",
       "      <td>2</td>\n",
       "      <td>-1</td>\n",
       "      <td>1</td>\n",
       "      <td>...</td>\n",
       "      <td>5</td>\n",
       "      <td>-1</td>\n",
       "      <td>1</td>\n",
       "      <td>3</td>\n",
       "      <td>-1</td>\n",
       "      <td>4</td>\n",
       "      <td>4</td>\n",
       "      <td>5</td>\n",
       "      <td>1</td>\n",
       "      <td>2</td>\n",
       "    </tr>\n",
       "    <tr>\n",
       "      <th>6</th>\n",
       "      <td>4</td>\n",
       "      <td>1</td>\n",
       "      <td>4</td>\n",
       "      <td>4</td>\n",
       "      <td>1</td>\n",
       "      <td>4</td>\n",
       "      <td>5</td>\n",
       "      <td>2</td>\n",
       "      <td>2</td>\n",
       "      <td>-1</td>\n",
       "      <td>...</td>\n",
       "      <td>2</td>\n",
       "      <td>5</td>\n",
       "      <td>1</td>\n",
       "      <td>3</td>\n",
       "      <td>4</td>\n",
       "      <td>-1</td>\n",
       "      <td>4</td>\n",
       "      <td>3</td>\n",
       "      <td>1</td>\n",
       "      <td>4</td>\n",
       "    </tr>\n",
       "    <tr>\n",
       "      <th>7</th>\n",
       "      <td>-1</td>\n",
       "      <td>5</td>\n",
       "      <td>5</td>\n",
       "      <td>3</td>\n",
       "      <td>3</td>\n",
       "      <td>3</td>\n",
       "      <td>3</td>\n",
       "      <td>3</td>\n",
       "      <td>1</td>\n",
       "      <td>2</td>\n",
       "      <td>...</td>\n",
       "      <td>-1</td>\n",
       "      <td>3</td>\n",
       "      <td>1</td>\n",
       "      <td>3</td>\n",
       "      <td>2</td>\n",
       "      <td>1</td>\n",
       "      <td>4</td>\n",
       "      <td>-1</td>\n",
       "      <td>1</td>\n",
       "      <td>3</td>\n",
       "    </tr>\n",
       "    <tr>\n",
       "      <th>8</th>\n",
       "      <td>1</td>\n",
       "      <td>2</td>\n",
       "      <td>3</td>\n",
       "      <td>1</td>\n",
       "      <td>5</td>\n",
       "      <td>3</td>\n",
       "      <td>3</td>\n",
       "      <td>1</td>\n",
       "      <td>2</td>\n",
       "      <td>5</td>\n",
       "      <td>...</td>\n",
       "      <td>3</td>\n",
       "      <td>2</td>\n",
       "      <td>3</td>\n",
       "      <td>-1</td>\n",
       "      <td>1</td>\n",
       "      <td>4</td>\n",
       "      <td>3</td>\n",
       "      <td>1</td>\n",
       "      <td>5</td>\n",
       "      <td>3</td>\n",
       "    </tr>\n",
       "    <tr>\n",
       "      <th>9</th>\n",
       "      <td>5</td>\n",
       "      <td>-1</td>\n",
       "      <td>1</td>\n",
       "      <td>-1</td>\n",
       "      <td>3</td>\n",
       "      <td>3</td>\n",
       "      <td>4</td>\n",
       "      <td>1</td>\n",
       "      <td>1</td>\n",
       "      <td>2</td>\n",
       "      <td>...</td>\n",
       "      <td>4</td>\n",
       "      <td>1</td>\n",
       "      <td>4</td>\n",
       "      <td>1</td>\n",
       "      <td>4</td>\n",
       "      <td>5</td>\n",
       "      <td>2</td>\n",
       "      <td>3</td>\n",
       "      <td>-1</td>\n",
       "      <td>1</td>\n",
       "    </tr>\n",
       "    <tr>\n",
       "      <th>10</th>\n",
       "      <td>-1</td>\n",
       "      <td>5</td>\n",
       "      <td>-1</td>\n",
       "      <td>1</td>\n",
       "      <td>5</td>\n",
       "      <td>2</td>\n",
       "      <td>4</td>\n",
       "      <td>2</td>\n",
       "      <td>4</td>\n",
       "      <td>-1</td>\n",
       "      <td>...</td>\n",
       "      <td>4</td>\n",
       "      <td>-1</td>\n",
       "      <td>3</td>\n",
       "      <td>4</td>\n",
       "      <td>1</td>\n",
       "      <td>2</td>\n",
       "      <td>4</td>\n",
       "      <td>2</td>\n",
       "      <td>5</td>\n",
       "      <td>1</td>\n",
       "    </tr>\n",
       "    <tr>\n",
       "      <th>11</th>\n",
       "      <td>5</td>\n",
       "      <td>4</td>\n",
       "      <td>4</td>\n",
       "      <td>-1</td>\n",
       "      <td>3</td>\n",
       "      <td>-1</td>\n",
       "      <td>5</td>\n",
       "      <td>5</td>\n",
       "      <td>5</td>\n",
       "      <td>3</td>\n",
       "      <td>...</td>\n",
       "      <td>1</td>\n",
       "      <td>4</td>\n",
       "      <td>1</td>\n",
       "      <td>5</td>\n",
       "      <td>3</td>\n",
       "      <td>5</td>\n",
       "      <td>4</td>\n",
       "      <td>3</td>\n",
       "      <td>5</td>\n",
       "      <td>5</td>\n",
       "    </tr>\n",
       "    <tr>\n",
       "      <th>12</th>\n",
       "      <td>1</td>\n",
       "      <td>1</td>\n",
       "      <td>4</td>\n",
       "      <td>5</td>\n",
       "      <td>4</td>\n",
       "      <td>3</td>\n",
       "      <td>5</td>\n",
       "      <td>5</td>\n",
       "      <td>5</td>\n",
       "      <td>4</td>\n",
       "      <td>...</td>\n",
       "      <td>2</td>\n",
       "      <td>3</td>\n",
       "      <td>2</td>\n",
       "      <td>-1</td>\n",
       "      <td>4</td>\n",
       "      <td>3</td>\n",
       "      <td>-1</td>\n",
       "      <td>5</td>\n",
       "      <td>5</td>\n",
       "      <td>4</td>\n",
       "    </tr>\n",
       "    <tr>\n",
       "      <th>13</th>\n",
       "      <td>3</td>\n",
       "      <td>5</td>\n",
       "      <td>4</td>\n",
       "      <td>-1</td>\n",
       "      <td>1</td>\n",
       "      <td>2</td>\n",
       "      <td>4</td>\n",
       "      <td>-1</td>\n",
       "      <td>-1</td>\n",
       "      <td>4</td>\n",
       "      <td>...</td>\n",
       "      <td>4</td>\n",
       "      <td>1</td>\n",
       "      <td>5</td>\n",
       "      <td>4</td>\n",
       "      <td>1</td>\n",
       "      <td>-1</td>\n",
       "      <td>3</td>\n",
       "      <td>1</td>\n",
       "      <td>5</td>\n",
       "      <td>3</td>\n",
       "    </tr>\n",
       "    <tr>\n",
       "      <th>14</th>\n",
       "      <td>3</td>\n",
       "      <td>5</td>\n",
       "      <td>3</td>\n",
       "      <td>4</td>\n",
       "      <td>4</td>\n",
       "      <td>-1</td>\n",
       "      <td>4</td>\n",
       "      <td>4</td>\n",
       "      <td>2</td>\n",
       "      <td>1</td>\n",
       "      <td>...</td>\n",
       "      <td>2</td>\n",
       "      <td>2</td>\n",
       "      <td>5</td>\n",
       "      <td>1</td>\n",
       "      <td>3</td>\n",
       "      <td>4</td>\n",
       "      <td>-1</td>\n",
       "      <td>-1</td>\n",
       "      <td>5</td>\n",
       "      <td>4</td>\n",
       "    </tr>\n",
       "    <tr>\n",
       "      <th>15</th>\n",
       "      <td>3</td>\n",
       "      <td>3</td>\n",
       "      <td>5</td>\n",
       "      <td>3</td>\n",
       "      <td>2</td>\n",
       "      <td>2</td>\n",
       "      <td>5</td>\n",
       "      <td>-1</td>\n",
       "      <td>4</td>\n",
       "      <td>4</td>\n",
       "      <td>...</td>\n",
       "      <td>1</td>\n",
       "      <td>3</td>\n",
       "      <td>4</td>\n",
       "      <td>-1</td>\n",
       "      <td>4</td>\n",
       "      <td>4</td>\n",
       "      <td>4</td>\n",
       "      <td>2</td>\n",
       "      <td>4</td>\n",
       "      <td>4</td>\n",
       "    </tr>\n",
       "    <tr>\n",
       "      <th>16</th>\n",
       "      <td>1</td>\n",
       "      <td>1</td>\n",
       "      <td>-1</td>\n",
       "      <td>-1</td>\n",
       "      <td>4</td>\n",
       "      <td>4</td>\n",
       "      <td>-1</td>\n",
       "      <td>-1</td>\n",
       "      <td>1</td>\n",
       "      <td>1</td>\n",
       "      <td>...</td>\n",
       "      <td>4</td>\n",
       "      <td>2</td>\n",
       "      <td>4</td>\n",
       "      <td>2</td>\n",
       "      <td>2</td>\n",
       "      <td>-1</td>\n",
       "      <td>5</td>\n",
       "      <td>4</td>\n",
       "      <td>5</td>\n",
       "      <td>3</td>\n",
       "    </tr>\n",
       "    <tr>\n",
       "      <th>17</th>\n",
       "      <td>4</td>\n",
       "      <td>3</td>\n",
       "      <td>3</td>\n",
       "      <td>2</td>\n",
       "      <td>1</td>\n",
       "      <td>5</td>\n",
       "      <td>3</td>\n",
       "      <td>4</td>\n",
       "      <td>5</td>\n",
       "      <td>2</td>\n",
       "      <td>...</td>\n",
       "      <td>-1</td>\n",
       "      <td>4</td>\n",
       "      <td>5</td>\n",
       "      <td>2</td>\n",
       "      <td>1</td>\n",
       "      <td>1</td>\n",
       "      <td>2</td>\n",
       "      <td>1</td>\n",
       "      <td>-1</td>\n",
       "      <td>4</td>\n",
       "    </tr>\n",
       "    <tr>\n",
       "      <th>18</th>\n",
       "      <td>4</td>\n",
       "      <td>3</td>\n",
       "      <td>5</td>\n",
       "      <td>5</td>\n",
       "      <td>4</td>\n",
       "      <td>4</td>\n",
       "      <td>-1</td>\n",
       "      <td>-1</td>\n",
       "      <td>4</td>\n",
       "      <td>4</td>\n",
       "      <td>...</td>\n",
       "      <td>2</td>\n",
       "      <td>3</td>\n",
       "      <td>1</td>\n",
       "      <td>2</td>\n",
       "      <td>-1</td>\n",
       "      <td>2</td>\n",
       "      <td>5</td>\n",
       "      <td>1</td>\n",
       "      <td>2</td>\n",
       "      <td>1</td>\n",
       "    </tr>\n",
       "    <tr>\n",
       "      <th>19</th>\n",
       "      <td>2</td>\n",
       "      <td>-1</td>\n",
       "      <td>2</td>\n",
       "      <td>5</td>\n",
       "      <td>-1</td>\n",
       "      <td>-1</td>\n",
       "      <td>1</td>\n",
       "      <td>-1</td>\n",
       "      <td>2</td>\n",
       "      <td>-1</td>\n",
       "      <td>...</td>\n",
       "      <td>-1</td>\n",
       "      <td>2</td>\n",
       "      <td>4</td>\n",
       "      <td>1</td>\n",
       "      <td>-1</td>\n",
       "      <td>2</td>\n",
       "      <td>2</td>\n",
       "      <td>3</td>\n",
       "      <td>3</td>\n",
       "      <td>4</td>\n",
       "    </tr>\n",
       "    <tr>\n",
       "      <th>20</th>\n",
       "      <td>-1</td>\n",
       "      <td>2</td>\n",
       "      <td>1</td>\n",
       "      <td>2</td>\n",
       "      <td>3</td>\n",
       "      <td>5</td>\n",
       "      <td>4</td>\n",
       "      <td>1</td>\n",
       "      <td>2</td>\n",
       "      <td>3</td>\n",
       "      <td>...</td>\n",
       "      <td>-1</td>\n",
       "      <td>5</td>\n",
       "      <td>1</td>\n",
       "      <td>2</td>\n",
       "      <td>5</td>\n",
       "      <td>5</td>\n",
       "      <td>4</td>\n",
       "      <td>4</td>\n",
       "      <td>2</td>\n",
       "      <td>-1</td>\n",
       "    </tr>\n",
       "  </tbody>\n",
       "</table>\n",
       "<p>21 rows × 30 columns</p>\n",
       "</div>"
      ],
      "text/plain": [
       "     Movie 1   Movie 2   Movie 3   Movie 4   Movie 5   Movie 6   Movie 7  \\\n",
       "0         -1         4         1         5        -1        -1        -1   \n",
       "1          4         5         2         3         3         4        -1   \n",
       "2          4         2         5         4         1         5        -1   \n",
       "3          5        -1         2        -1        -1         2         4   \n",
       "4          4         3         3         3         5         3         3   \n",
       "5          2        -1         3         3         3         3         4   \n",
       "6          4         1         4         4         1         4         5   \n",
       "7         -1         5         5         3         3         3         3   \n",
       "8          1         2         3         1         5         3         3   \n",
       "9          5        -1         1        -1         3         3         4   \n",
       "10        -1         5        -1         1         5         2         4   \n",
       "11         5         4         4        -1         3        -1         5   \n",
       "12         1         1         4         5         4         3         5   \n",
       "13         3         5         4        -1         1         2         4   \n",
       "14         3         5         3         4         4        -1         4   \n",
       "15         3         3         5         3         2         2         5   \n",
       "16         1         1        -1        -1         4         4        -1   \n",
       "17         4         3         3         2         1         5         3   \n",
       "18         4         3         5         5         4         4        -1   \n",
       "19         2        -1         2         5        -1        -1         1   \n",
       "20        -1         2         1         2         3         5         4   \n",
       "\n",
       "     Movie 8   Movie 9   Movie 10  ...   Movie 21   Movie 22   Movie 23  \\\n",
       "0          1         3         -1  ...          2          4         -1   \n",
       "1          5         3          2  ...         -1          2         -1   \n",
       "2          3         5          2  ...          4         -1          5   \n",
       "3          3         2          3  ...         -1          2          2   \n",
       "4          4         5          2  ...          4          5          2   \n",
       "5          2        -1          1  ...          5         -1          1   \n",
       "6          2         2         -1  ...          2          5          1   \n",
       "7          3         1          2  ...         -1          3          1   \n",
       "8          1         2          5  ...          3          2          3   \n",
       "9          1         1          2  ...          4          1          4   \n",
       "10         2         4         -1  ...          4         -1          3   \n",
       "11         5         5          3  ...          1          4          1   \n",
       "12         5         5          4  ...          2          3          2   \n",
       "13        -1        -1          4  ...          4          1          5   \n",
       "14         4         2          1  ...          2          2          5   \n",
       "15        -1         4          4  ...          1          3          4   \n",
       "16        -1         1          1  ...          4          2          4   \n",
       "17         4         5          2  ...         -1          4          5   \n",
       "18        -1         4          4  ...          2          3          1   \n",
       "19        -1         2         -1  ...         -1          2          4   \n",
       "20         1         2          3  ...         -1          5          1   \n",
       "\n",
       "     Movie 24   Movie 25   Movie 26   Movie 27   Movie 28   Movie 29  \\\n",
       "0          -1          3          4         -1          2          4   \n",
       "1           3          1          5         -1          5          2   \n",
       "2           4          5          1          2          1         -1   \n",
       "3           2          2          5          3          2          5   \n",
       "4          -1          3          5          1         -1          5   \n",
       "5           3         -1          4          4          5          1   \n",
       "6           3          4         -1          4          3          1   \n",
       "7           3          2          1          4         -1          1   \n",
       "8          -1          1          4          3          1          5   \n",
       "9           1          4          5          2          3         -1   \n",
       "10          4          1          2          4          2          5   \n",
       "11          5          3          5          4          3          5   \n",
       "12         -1          4          3         -1          5          5   \n",
       "13          4          1         -1          3          1          5   \n",
       "14          1          3          4         -1         -1          5   \n",
       "15         -1          4          4          4          2          4   \n",
       "16          2          2         -1          5          4          5   \n",
       "17          2          1          1          2          1         -1   \n",
       "18          2         -1          2          5          1          2   \n",
       "19          1         -1          2          2          3          3   \n",
       "20          2          5          5          4          4          2   \n",
       "\n",
       "     Movie 30  \n",
       "0           1  \n",
       "1           2  \n",
       "2           3  \n",
       "3           5  \n",
       "4          -1  \n",
       "5           2  \n",
       "6           4  \n",
       "7           3  \n",
       "8           3  \n",
       "9           1  \n",
       "10          1  \n",
       "11          5  \n",
       "12          4  \n",
       "13          3  \n",
       "14          4  \n",
       "15          4  \n",
       "16          3  \n",
       "17          4  \n",
       "18          1  \n",
       "19          4  \n",
       "20         -1  \n",
       "\n",
       "[21 rows x 30 columns]"
      ]
     },
     "execution_count": 28,
     "metadata": {},
     "output_type": "execute_result"
    }
   ],
   "source": [
    "data.head(user_number+1)"
   ]
  },
  {
   "cell_type": "code",
   "execution_count": 29,
   "metadata": {},
   "outputs": [
    {
     "name": "stdout",
     "output_type": "stream",
     "text": [
      "[4, 5, 8, 12, 25, 28, 5, 10, 20, 23, 28]\n"
     ]
    }
   ],
   "source": [
    "mergedl=dfilms+pfilms\n",
    "print(mergedl)"
   ]
  },
  {
   "cell_type": "markdown",
   "metadata": {},
   "source": [
    "Найдем те фильмы, которые есть в обоих списках, а именно те, которые пользователь смотрел дома в Сб или Вс"
   ]
  },
  {
   "cell_type": "code",
   "execution_count": 30,
   "metadata": {},
   "outputs": [
    {
     "name": "stdout",
     "output_type": "stream",
     "text": [
      "[4, 5, 8, 12, 25, 28, 10, 20, 23]\n",
      "[5, 28]\n"
     ]
    }
   ],
   "source": [
    "no_dupes = [x for n, x in enumerate(mergedl) if x not in mergedl[:n]]\n",
    "print (no_dupes)\n",
    "\n",
    "dupes = [x for n, x in enumerate(mergedl) if x in mergedl[:n]]\n",
    "print (dupes)"
   ]
  },
  {
   "cell_type": "markdown",
   "metadata": {},
   "source": [
    "Найдем оценки для этих фильмов"
   ]
  },
  {
   "cell_type": "code",
   "execution_count": 31,
   "metadata": {},
   "outputs": [
    {
     "name": "stdout",
     "output_type": "stream",
     "text": [
      "Оценка по фильму 5 от пользователя 21: 3\n",
      "Оценка по фильму 28 от пользователя 21: 4\n"
     ]
    }
   ],
   "source": [
    "grade = []\n",
    "len_d=len(dupes)\n",
    "for i in range(len_d):\n",
    "    grade.append(data.iloc[user_number][dupes[i]-1]) \n",
    "    print('Оценка по фильму',dupes[i], 'от пользователя 21:',grade[i])"
   ]
  },
  {
   "cell_type": "markdown",
   "metadata": {},
   "source": [
    "Посчитаем оценки от других пользователей по этим фильмам:"
   ]
  },
  {
   "cell_type": "code",
   "execution_count": 32,
   "metadata": {},
   "outputs": [
    {
     "name": "stdout",
     "output_type": "stream",
     "text": [
      "Оценки для фильма: Movie 5 на основании мнения других пользователей = 3.439\n",
      "Оценки для фильма: Movie 28 на основании мнения других пользователей = 2.486\n",
      "Рекомендуемый фильм по наибольшей оценке 3.439 : Movie 5\n"
     ]
    }
   ],
   "source": [
    "data_var=data.iloc[user_number]\n",
    "\n",
    "sum_m = np.zeros(col_num)\n",
    "sm=np.zeros(col_num)\n",
    "for us in ind:\n",
    "    srv = round(rv(us),3)\n",
    "    for film in dupes:\n",
    "        if(data.iloc[us][film] != -1):\n",
    "            sum_m[film] += sim_func(user_number)[us]\n",
    "            sm[film] += sim_func(user_number)[us] * (data.iloc[us][film] - srv)\n",
    "new_l=[]\n",
    "mx=0\n",
    "for i in dupes:\n",
    "    sm[i] = round(ru + sm[i] / sum_m[i],3)\n",
    "    data_var.iloc[i]=sm[i]\n",
    "    new_l.append(data_var.iloc[i])\n",
    "    print('Оценки для фильма: Movie',i,'на основании мнения других пользователей =',round(data_var.iloc[i],3))\n",
    "    for j in range(len(new_l)):\n",
    "        if new_l[j]>mx:\n",
    "            mx=new_l[j]\n",
    "            indx=i\n",
    "print('Рекомендуемый фильм по наибольшей оценке',mx,': Movie',indx)\n",
    "data_result2=pd.DataFrame(max(new_l),index=[(\"Movie \")+str(indx)], columns=['2'])"
   ]
  },
  {
   "cell_type": "code",
   "execution_count": 33,
   "metadata": {},
   "outputs": [],
   "source": [
    "import json\n",
    "us='User 21'\n",
    "res = dat.to_json()\n",
    "res1=data_result2.to_json()\n",
    "with open('result_file_21.json', 'w') as file:\n",
    "    file.write(json.dumps(us, indent=4))\n",
    "    file.write(', \\n')\n",
    "    file.write(json.dumps(json.loads(res), indent=4))\n",
    "    file.write(', \\n')\n",
    "    file.write(json.dumps(json.loads(res1), indent=4))"
   ]
  },
  {
   "cell_type": "markdown",
   "metadata": {},
   "source": [
    "New Task SPARQL"
   ]
  },
  {
   "cell_type": "code",
   "execution_count": 34,
   "metadata": {},
   "outputs": [],
   "source": [
    " data_names=pd.read_csv('movie_names.csv',sep='\\t',encoding='ISO-8859-1', header = None)"
   ]
  },
  {
   "cell_type": "markdown",
   "metadata": {},
   "source": [
    "список наград, которые имеет сценарист рекомендованного фильма"
   ]
  },
  {
   "cell_type": "code",
   "execution_count": 35,
   "metadata": {},
   "outputs": [],
   "source": [
    "from SPARQLWrapper import SPARQLWrapper, JSON\n",
    "import pandas as pd\n",
    "import requests"
   ]
  },
  {
   "cell_type": "code",
   "execution_count": 36,
   "metadata": {},
   "outputs": [],
   "source": [
    "API_ENDPOINT = \"https://www.wikidata.org/w/api.php\""
   ]
  },
  {
   "cell_type": "code",
   "execution_count": 37,
   "metadata": {},
   "outputs": [
    {
     "name": "stdout",
     "output_type": "stream",
     "text": [
      "12 Angry Men\n"
     ]
    }
   ],
   "source": [
    "r=[]\n",
    "film_name=\"\"\n",
    "for i in range(30):\n",
    "    if(i==indx):\n",
    "        rez=str(data_names.iloc[[i-1]])\n",
    "r=rez.split(', ')\n",
    "for j in range(len(r)):\n",
    "    film_name=r[1]\n",
    "print(film_name)\n",
    "\n",
    "movie_name=film_name\n",
    "params = {\n",
    "'action' : 'wbsearchentities',\n",
    "'format' : 'json',\n",
    "'language' : 'en',\n",
    "'search': movie_name\n",
    "}"
   ]
  },
  {
   "cell_type": "code",
   "execution_count": 38,
   "metadata": {},
   "outputs": [
    {
     "data": {
      "text/plain": [
       "'1957 American drama film by Sidney Lumet'"
      ]
     },
     "execution_count": 38,
     "metadata": {},
     "output_type": "execute_result"
    }
   ],
   "source": [
    "res = requests.get(API_ENDPOINT, params = params)\n",
    "res.json()['search'][0]['description']"
   ]
  },
  {
   "cell_type": "code",
   "execution_count": 39,
   "metadata": {},
   "outputs": [],
   "source": [
    "movie_code = res.json()['search'][0]['id']"
   ]
  },
  {
   "cell_type": "code",
   "execution_count": 40,
   "metadata": {},
   "outputs": [],
   "source": [
    "sparql = SPARQLWrapper(\"https://query.wikidata.org/sparql\")\n",
    "\n",
    "sparql_query = \"\"\"\n",
    "SELECT ?filmLabel ?personLabel ?awardLabel\n",
    "WHERE \n",
    "{\n",
    "  ?film wdt:P31 wd:Q11424.\n",
    "  ?film wdt:P58 ?person.\n",
    "  ?person wdt:P166 ?award.\n",
    "   FILTER(?film = wd:\"\"\" + movie_code  +\"\"\")\n",
    "SERVICE wikibase:label{bd:serviceParam wikibase:language \"[AUTO_LANGUAGE],en\"}             \n",
    "} \n",
    " \n",
    "\"\"\"\n",
    "\n",
    "sparql.setQuery(sparql_query)\n",
    "\n",
    "sparql.setReturnFormat(JSON)\n",
    "results = sparql.query().convert()\n"
   ]
  },
  {
   "cell_type": "code",
   "execution_count": 41,
   "metadata": {},
   "outputs": [
    {
     "data": {
      "text/html": [
       "<div>\n",
       "<style scoped>\n",
       "    .dataframe tbody tr th:only-of-type {\n",
       "        vertical-align: middle;\n",
       "    }\n",
       "\n",
       "    .dataframe tbody tr th {\n",
       "        vertical-align: top;\n",
       "    }\n",
       "\n",
       "    .dataframe thead th {\n",
       "        text-align: right;\n",
       "    }\n",
       "</style>\n",
       "<table border=\"1\" class=\"dataframe\">\n",
       "  <thead>\n",
       "    <tr style=\"text-align: right;\">\n",
       "      <th></th>\n",
       "      <th>filmLabel.value</th>\n",
       "      <th>personLabel.value</th>\n",
       "      <th>awardLabel.value</th>\n",
       "    </tr>\n",
       "  </thead>\n",
       "  <tbody>\n",
       "    <tr>\n",
       "      <th>0</th>\n",
       "      <td>12 Angry Men</td>\n",
       "      <td>Reginald Rose</td>\n",
       "      <td>Edgar Award</td>\n",
       "    </tr>\n",
       "    <tr>\n",
       "      <th>1</th>\n",
       "      <td>12 Angry Men</td>\n",
       "      <td>Reginald Rose</td>\n",
       "      <td>World War II Victory Medal</td>\n",
       "    </tr>\n",
       "  </tbody>\n",
       "</table>\n",
       "</div>"
      ],
      "text/plain": [
       "  filmLabel.value personLabel.value            awardLabel.value\n",
       "0    12 Angry Men     Reginald Rose                 Edgar Award\n",
       "1    12 Angry Men     Reginald Rose  World War II Victory Medal"
      ]
     },
     "execution_count": 41,
     "metadata": {},
     "output_type": "execute_result"
    }
   ],
   "source": [
    "results_df = pd.json_normalize(results['results']['bindings'])\n",
    "results_df[['filmLabel.value', 'personLabel.value','awardLabel.value']].head()"
   ]
  },
  {
   "cell_type": "code",
   "execution_count": null,
   "metadata": {},
   "outputs": [],
   "source": []
  }
 ],
 "metadata": {
  "kernelspec": {
   "display_name": "Python 3",
   "language": "python",
   "name": "python3"
  },
  "language_info": {
   "codemirror_mode": {
    "name": "ipython",
    "version": 3
   },
   "file_extension": ".py",
   "mimetype": "text/x-python",
   "name": "python",
   "nbconvert_exporter": "python",
   "pygments_lexer": "ipython3",
   "version": "3.8.5"
  }
 },
 "nbformat": 4,
 "nbformat_minor": 4
}
